{
 "cells": [
  {
   "cell_type": "code",
   "execution_count": 2,
   "metadata": {},
   "outputs": [],
   "source": [
    "import tensorflow as tf\n",
    "import numpy as np\n",
    "\n",
    "from tensorflow.keras.applications import ResNet50V2\n",
    "from tensorflow.keras.preprocessing.image import ImageDataGenerator\n",
    "from tensorflow.keras import Sequential\n",
    "from tensorflow.keras import layers\n",
    "from tensorflow.keras.models import load_model\n",
    "from sklearn import preprocessing\n",
    "import os\n",
    "import pathlib\n",
    "import pandas as pd\n",
    "\n",
    "from tensorflow.keras.preprocessing.image import load_img\n",
    "from tensorflow.image import resize\n",
    "\n",
    "from tensorflow.keras import layers\n",
    "\n",
    "os.environ[\"CUDA_VISIBLE_DEVICES\"]=\"0,1\""
   ]
  },
  {
   "cell_type": "code",
   "execution_count": 3,
   "metadata": {},
   "outputs": [],
   "source": [
    "train_path = pathlib.Path('datasets', 'train')\n",
    "labels_path = pathlib.Path('datasets', 'labels.csv')"
   ]
  },
  {
   "cell_type": "code",
   "execution_count": 4,
   "metadata": {},
   "outputs": [],
   "source": [
    "labels_df = pd.read_csv(labels_path)"
   ]
  },
  {
   "cell_type": "code",
   "execution_count": 5,
   "metadata": {},
   "outputs": [
    {
     "data": {
      "text/html": [
       "<div>\n",
       "<style scoped>\n",
       "    .dataframe tbody tr th:only-of-type {\n",
       "        vertical-align: middle;\n",
       "    }\n",
       "\n",
       "    .dataframe tbody tr th {\n",
       "        vertical-align: top;\n",
       "    }\n",
       "\n",
       "    .dataframe thead th {\n",
       "        text-align: right;\n",
       "    }\n",
       "</style>\n",
       "<table border=\"1\" class=\"dataframe\">\n",
       "  <thead>\n",
       "    <tr style=\"text-align: right;\">\n",
       "      <th></th>\n",
       "      <th>id</th>\n",
       "      <th>breed</th>\n",
       "    </tr>\n",
       "  </thead>\n",
       "  <tbody>\n",
       "    <tr>\n",
       "      <th>0</th>\n",
       "      <td>000bec180eb18c7604dcecc8fe0dba07</td>\n",
       "      <td>boston_bull</td>\n",
       "    </tr>\n",
       "    <tr>\n",
       "      <th>1</th>\n",
       "      <td>001513dfcb2ffafc82cccf4d8bbaba97</td>\n",
       "      <td>dingo</td>\n",
       "    </tr>\n",
       "    <tr>\n",
       "      <th>2</th>\n",
       "      <td>001cdf01b096e06d78e9e5112d419397</td>\n",
       "      <td>pekinese</td>\n",
       "    </tr>\n",
       "    <tr>\n",
       "      <th>3</th>\n",
       "      <td>00214f311d5d2247d5dfe4fe24b2303d</td>\n",
       "      <td>bluetick</td>\n",
       "    </tr>\n",
       "    <tr>\n",
       "      <th>4</th>\n",
       "      <td>0021f9ceb3235effd7fcde7f7538ed62</td>\n",
       "      <td>golden_retriever</td>\n",
       "    </tr>\n",
       "  </tbody>\n",
       "</table>\n",
       "</div>"
      ],
      "text/plain": [
       "                                 id             breed\n",
       "0  000bec180eb18c7604dcecc8fe0dba07       boston_bull\n",
       "1  001513dfcb2ffafc82cccf4d8bbaba97             dingo\n",
       "2  001cdf01b096e06d78e9e5112d419397          pekinese\n",
       "3  00214f311d5d2247d5dfe4fe24b2303d          bluetick\n",
       "4  0021f9ceb3235effd7fcde7f7538ed62  golden_retriever"
      ]
     },
     "execution_count": 5,
     "metadata": {},
     "output_type": "execute_result"
    }
   ],
   "source": [
    "labels_df.head()"
   ]
  },
  {
   "cell_type": "code",
   "execution_count": 163,
   "metadata": {},
   "outputs": [],
   "source": [
    "labels_df['breed'].value_counts()[::-1].to_csv('breeds.csv')"
   ]
  },
  {
   "cell_type": "code",
   "execution_count": 6,
   "metadata": {},
   "outputs": [
    {
     "data": {
      "text/html": [
       "<div>\n",
       "<style scoped>\n",
       "    .dataframe tbody tr th:only-of-type {\n",
       "        vertical-align: middle;\n",
       "    }\n",
       "\n",
       "    .dataframe tbody tr th {\n",
       "        vertical-align: top;\n",
       "    }\n",
       "\n",
       "    .dataframe thead th {\n",
       "        text-align: right;\n",
       "    }\n",
       "</style>\n",
       "<table border=\"1\" class=\"dataframe\">\n",
       "  <thead>\n",
       "    <tr style=\"text-align: right;\">\n",
       "      <th></th>\n",
       "      <th>id</th>\n",
       "      <th>breed</th>\n",
       "      <th>target</th>\n",
       "    </tr>\n",
       "  </thead>\n",
       "  <tbody>\n",
       "    <tr>\n",
       "      <th>0</th>\n",
       "      <td>000bec180eb18c7604dcecc8fe0dba07</td>\n",
       "      <td>boston_bull</td>\n",
       "      <td>19</td>\n",
       "    </tr>\n",
       "    <tr>\n",
       "      <th>1</th>\n",
       "      <td>001513dfcb2ffafc82cccf4d8bbaba97</td>\n",
       "      <td>dingo</td>\n",
       "      <td>37</td>\n",
       "    </tr>\n",
       "    <tr>\n",
       "      <th>2</th>\n",
       "      <td>001cdf01b096e06d78e9e5112d419397</td>\n",
       "      <td>pekinese</td>\n",
       "      <td>85</td>\n",
       "    </tr>\n",
       "    <tr>\n",
       "      <th>3</th>\n",
       "      <td>00214f311d5d2247d5dfe4fe24b2303d</td>\n",
       "      <td>bluetick</td>\n",
       "      <td>15</td>\n",
       "    </tr>\n",
       "    <tr>\n",
       "      <th>4</th>\n",
       "      <td>0021f9ceb3235effd7fcde7f7538ed62</td>\n",
       "      <td>golden_retriever</td>\n",
       "      <td>49</td>\n",
       "    </tr>\n",
       "  </tbody>\n",
       "</table>\n",
       "</div>"
      ],
      "text/plain": [
       "                                 id             breed  target\n",
       "0  000bec180eb18c7604dcecc8fe0dba07       boston_bull      19\n",
       "1  001513dfcb2ffafc82cccf4d8bbaba97             dingo      37\n",
       "2  001cdf01b096e06d78e9e5112d419397          pekinese      85\n",
       "3  00214f311d5d2247d5dfe4fe24b2303d          bluetick      15\n",
       "4  0021f9ceb3235effd7fcde7f7538ed62  golden_retriever      49"
      ]
     },
     "execution_count": 6,
     "metadata": {},
     "output_type": "execute_result"
    }
   ],
   "source": [
    "le = preprocessing.LabelEncoder()\n",
    "labels_df['target'] = le.fit_transform(labels_df['breed'].values)\n",
    "labels_df.head()"
   ]
  },
  {
   "cell_type": "code",
   "execution_count": 102,
   "metadata": {},
   "outputs": [],
   "source": [
    "def load_data(path, labels_df=None):\n",
    "    data = []\n",
    "    labels = []\n",
    "    for file in tqdm(os.listdir(path)):\n",
    "        img = load_img(pathlib.Path(path, file))\n",
    "        img = np.array(img)\n",
    "        data.append(img)\n",
    "        if labels_df is not None:\n",
    "            target = labels_df.loc[labels_df['id'].str.startswith(file.split('.')[0]), 'target'].values[0]\n",
    "            labels.append(target)\n",
    "    return data, labels"
   ]
  },
  {
   "cell_type": "code",
   "execution_count": 103,
   "metadata": {},
   "outputs": [],
   "source": [
    "#from skimage.transform import rescale, resize, downscale_local_mean\n",
    "from skimage.color import rgb2gray\n",
    "from tqdm import tqdm\n",
    "\n",
    "from tensorflow.image import resize"
   ]
  },
  {
   "cell_type": "code",
   "execution_count": 104,
   "metadata": {},
   "outputs": [],
   "source": [
    "IMAGE_SIZE = (128, 128)"
   ]
  },
  {
   "cell_type": "code",
   "execution_count": 105,
   "metadata": {},
   "outputs": [
    {
     "name": "stderr",
     "output_type": "stream",
     "text": [
      "100%|████████████████████████████████████████████████████████████████████████████| 10222/10222 [02:36<00:00, 65.24it/s]\n"
     ]
    }
   ],
   "source": [
    "data_raw, labels = load_data(train_path, labels_df)"
   ]
  },
  {
   "cell_type": "code",
   "execution_count": 106,
   "metadata": {},
   "outputs": [
    {
     "data": {
      "text/plain": [
       "255"
      ]
     },
     "execution_count": 106,
     "metadata": {},
     "output_type": "execute_result"
    }
   ],
   "source": [
    "data_raw[0].max()"
   ]
  },
  {
   "cell_type": "code",
   "execution_count": 107,
   "metadata": {},
   "outputs": [],
   "source": [
    "def preprocess_input(data):\n",
    "    for i in tqdm(range(len(data))):\n",
    "        data[i] = resize(data[i], IMAGE_SIZE).numpy()\n",
    "        #data[i] = rgb2gray(data[i])\n",
    "        data[i] = 1./255. * data[i]\n",
    "    return data"
   ]
  },
  {
   "cell_type": "code",
   "execution_count": 108,
   "metadata": {},
   "outputs": [
    {
     "name": "stderr",
     "output_type": "stream",
     "text": [
      "100%|███████████████████████████████████████████████████████████████████████████| 10222/10222 [00:46<00:00, 217.80it/s]\n"
     ]
    }
   ],
   "source": [
    "data = preprocess_input(data_raw.copy())"
   ]
  },
  {
   "cell_type": "code",
   "execution_count": 109,
   "metadata": {},
   "outputs": [
    {
     "data": {
      "text/plain": [
       "255"
      ]
     },
     "execution_count": 109,
     "metadata": {},
     "output_type": "execute_result"
    }
   ],
   "source": [
    "data_raw[0].max()"
   ]
  },
  {
   "cell_type": "code",
   "execution_count": 110,
   "metadata": {},
   "outputs": [
    {
     "data": {
      "text/plain": [
       "1.0"
      ]
     },
     "execution_count": 110,
     "metadata": {},
     "output_type": "execute_result"
    }
   ],
   "source": [
    "data[0].max()"
   ]
  },
  {
   "cell_type": "code",
   "execution_count": 111,
   "metadata": {},
   "outputs": [],
   "source": [
    "NUM_CLASSES = len(np.unique(labels_df['target'].values))"
   ]
  },
  {
   "cell_type": "code",
   "execution_count": 112,
   "metadata": {},
   "outputs": [],
   "source": [
    "from tensorflow.keras.applications import Xception\n",
    "from tensorflow.keras import Model"
   ]
  },
  {
   "cell_type": "code",
   "execution_count": 138,
   "metadata": {},
   "outputs": [],
   "source": [
    "from tensorflow.data import Dataset\n",
    "import tensorflow as tf\n",
    "from tensorflow.keras.optimizers import Adam\n",
    "import matplotlib.pyplot as plt\n",
    "BATCH_SIZE=16"
   ]
  },
  {
   "cell_type": "code",
   "execution_count": 139,
   "metadata": {},
   "outputs": [],
   "source": [
    "data = np.array(data)\n",
    "data = tf.convert_to_tensor(data)"
   ]
  },
  {
   "cell_type": "code",
   "execution_count": 140,
   "metadata": {},
   "outputs": [],
   "source": [
    "def indices_to_one_hot(data, nb_classes):\n",
    "    \"\"\"Convert an iterable of indices to one-hot encoded labels.\"\"\"\n",
    "    targets = np.array(data).reshape(-1)\n",
    "    return np.eye(nb_classes)[targets]"
   ]
  },
  {
   "cell_type": "code",
   "execution_count": 141,
   "metadata": {},
   "outputs": [],
   "source": [
    "labels_one_hot = indices_to_one_hot(labels, 120)"
   ]
  },
  {
   "cell_type": "code",
   "execution_count": 142,
   "metadata": {},
   "outputs": [
    {
     "data": {
      "text/plain": [
       "<matplotlib.image.AxesImage at 0x13cd1d62048>"
      ]
     },
     "execution_count": 142,
     "metadata": {},
     "output_type": "execute_result"
    },
    {
     "data": {
      "image/png": "[encoded data removed]",
      "text/plain": [
       "<Figure size 432x288 with 1 Axes>"
      ]
     },
     "metadata": {
      "needs_background": "light"
     },
     "output_type": "display_data"
    }
   ],
   "source": [
    "plt.imshow(data[16].numpy())"
   ]
  },
  {
   "cell_type": "code",
   "execution_count": 143,
   "metadata": {},
   "outputs": [],
   "source": [
    "dataset = Dataset.from_tensor_slices((tf.cast(data, tf.float32), tf.cast(labels_one_hot, tf.float32))).shuffle(512)"
   ]
  },
  {
   "cell_type": "code",
   "execution_count": 144,
   "metadata": {},
   "outputs": [],
   "source": [
    "DATASET_SIZE = len(dataset)\n",
    "\n",
    "train_size = int(0.85 * DATASET_SIZE)\n",
    "val_size = int(0.15 * DATASET_SIZE)\n",
    "\n",
    "train_dataset = dataset.take(train_size)\n",
    "val_dataset = dataset.skip(train_size)"
   ]
  },
  {
   "cell_type": "code",
   "execution_count": 145,
   "metadata": {},
   "outputs": [],
   "source": [
    "train_dataset = train_dataset.batch(BATCH_SIZE).prefetch(BATCH_SIZE)\n",
    "val_dataset = val_dataset.batch(BATCH_SIZE).prefetch(BATCH_SIZE)"
   ]
  },
  {
   "cell_type": "code",
   "execution_count": 152,
   "metadata": {},
   "outputs": [],
   "source": [
    "base_model = Xception(weights= None, include_top=False, input_shape= (*IMAGE_SIZE,3))\n",
    "x = base_model.output\n",
    "x = layers.GlobalAveragePooling2D()(x)\n",
    "# let's add a fully-connected layer\n",
    "x = layers.Dense(128, activation='relu')(x)\n",
    "# and a logistic layer -- let's say we have 200 classes\n",
    "predictions = layers.Dense(NUM_CLASSES, activation='softmax')(x)"
   ]
  },
  {
   "cell_type": "code",
   "execution_count": 153,
   "metadata": {},
   "outputs": [],
   "source": [
    "model = Model(inputs=base_model.input, outputs=predictions)"
   ]
  },
  {
   "cell_type": "code",
   "execution_count": 154,
   "metadata": {},
   "outputs": [],
   "source": [
    "model.compile(loss='categorical_crossentropy', optimizer=Adam(learning_rate=0.003), metrics=['accuracy'])"
   ]
  },
  {
   "cell_type": "code",
   "execution_count": 155,
   "metadata": {},
   "outputs": [
    {
     "name": "stdout",
     "output_type": "stream",
     "text": [
      "Epoch 1/50\n",
      "  2/543 [..............................] - ETA: 1:53 - loss: 5.0377 - accuracy: 0.0000e+00WARNING:tensorflow:Callbacks method `on_train_batch_end` is slow compared to the batch time (batch time: 0.0789s vs `on_train_batch_end` time: 0.1709s). Check your callbacks.\n",
      "543/543 [==============================] - 123s 226ms/step - loss: 4.7977 - accuracy: 0.0102 - val_loss: 4.7833 - val_accuracy: 0.0117\n",
      "Epoch 2/50\n",
      "543/543 [==============================] - 121s 223ms/step - loss: 4.7798 - accuracy: 0.0120 - val_loss: 4.7839 - val_accuracy: 0.0117\n",
      "Epoch 3/50\n",
      "543/543 [==============================] - 122s 224ms/step - loss: 4.7782 - accuracy: 0.0125 - val_loss: 4.7863 - val_accuracy: 0.0085\n",
      "Epoch 4/50\n",
      "543/543 [==============================] - 121s 224ms/step - loss: 4.7786 - accuracy: 0.0123 - val_loss: 4.7892 - val_accuracy: 0.0098\n",
      "Epoch 5/50\n",
      "543/543 [==============================] - 121s 224ms/step - loss: 4.7780 - accuracy: 0.0124 - val_loss: 4.7873 - val_accuracy: 0.0091\n",
      "Epoch 6/50\n",
      "543/543 [==============================] - 122s 224ms/step - loss: 4.7779 - accuracy: 0.0127 - val_loss: 4.7872 - val_accuracy: 0.0117\n",
      "Epoch 7/50\n",
      "543/543 [==============================] - 121s 224ms/step - loss: 4.7779 - accuracy: 0.0123 - val_loss: 4.7881 - val_accuracy: 0.0117\n",
      "Epoch 8/50\n",
      "543/543 [==============================] - 121s 223ms/step - loss: 4.7780 - accuracy: 0.0128 - val_loss: 4.7869 - val_accuracy: 0.0124\n",
      "Epoch 9/50\n",
      "543/543 [==============================] - 121s 224ms/step - loss: 4.7781 - accuracy: 0.0127 - val_loss: 4.7898 - val_accuracy: 0.0098\n",
      "Epoch 10/50\n",
      "543/543 [==============================] - 122s 224ms/step - loss: 4.7781 - accuracy: 0.0129 - val_loss: 4.7870 - val_accuracy: 0.0111\n",
      "Epoch 11/50\n",
      "543/543 [==============================] - 122s 224ms/step - loss: 4.7783 - accuracy: 0.0129 - val_loss: 4.7893 - val_accuracy: 0.0117\n",
      "Epoch 12/50\n",
      "543/543 [==============================] - 122s 224ms/step - loss: 4.7789 - accuracy: 0.0127 - val_loss: 4.7844 - val_accuracy: 0.0098\n",
      "Epoch 13/50\n",
      "543/543 [==============================] - 121s 224ms/step - loss: 4.7783 - accuracy: 0.0127 - val_loss: 4.7886 - val_accuracy: 0.0117\n",
      "Epoch 14/50\n",
      "543/543 [==============================] - 121s 223ms/step - loss: 4.7781 - accuracy: 0.0128 - val_loss: 4.7905 - val_accuracy: 0.0085\n",
      "Epoch 15/50\n",
      "543/543 [==============================] - 122s 224ms/step - loss: 4.7782 - accuracy: 0.0128 - val_loss: 4.7882 - val_accuracy: 0.0104\n",
      "Epoch 16/50\n",
      "543/543 [==============================] - 121s 223ms/step - loss: 4.7785 - accuracy: 0.0124 - val_loss: 4.7863 - val_accuracy: 0.0104\n",
      "Epoch 17/50\n",
      "543/543 [==============================] - 121s 223ms/step - loss: 4.7790 - accuracy: 0.0125 - val_loss: 4.7881 - val_accuracy: 0.0098\n",
      "Epoch 18/50\n",
      "543/543 [==============================] - 121s 223ms/step - loss: 4.7781 - accuracy: 0.0125 - val_loss: 4.7886 - val_accuracy: 0.0111\n",
      "Epoch 19/50\n",
      "543/543 [==============================] - 121s 223ms/step - loss: 4.7785 - accuracy: 0.0121 - val_loss: 4.7894 - val_accuracy: 0.0098\n",
      "Epoch 20/50\n",
      "543/543 [==============================] - 121s 223ms/step - loss: 4.7786 - accuracy: 0.0125 - val_loss: 4.7861 - val_accuracy: 0.0111\n",
      "Epoch 21/50\n",
      "543/543 [==============================] - 121s 224ms/step - loss: 4.7777 - accuracy: 0.0128 - val_loss: 4.7926 - val_accuracy: 0.0111\n",
      "Epoch 22/50\n",
      "543/543 [==============================] - 121s 223ms/step - loss: 4.7789 - accuracy: 0.0127 - val_loss: 4.7895 - val_accuracy: 0.0130\n",
      "Epoch 23/50\n",
      "543/543 [==============================] - 121s 223ms/step - loss: 4.7783 - accuracy: 0.0123 - val_loss: 4.7888 - val_accuracy: 0.0104\n",
      "Epoch 24/50\n",
      "543/543 [==============================] - 121s 223ms/step - loss: 4.7771 - accuracy: 0.0125 - val_loss: 4.7889 - val_accuracy: 0.0098\n",
      "Epoch 25/50\n",
      "543/543 [==============================] - 122s 224ms/step - loss: 4.7779 - accuracy: 0.0127 - val_loss: 4.7920 - val_accuracy: 0.0104\n",
      "Epoch 26/50\n",
      "543/543 [==============================] - 121s 223ms/step - loss: 4.7784 - accuracy: 0.0125 - val_loss: 4.7854 - val_accuracy: 0.0111\n",
      "Epoch 27/50\n",
      "543/543 [==============================] - 121s 224ms/step - loss: 4.7782 - accuracy: 0.0127 - val_loss: 4.7863 - val_accuracy: 0.0104\n",
      "Epoch 28/50\n",
      "543/543 [==============================] - 121s 223ms/step - loss: 4.7785 - accuracy: 0.0127 - val_loss: 4.7877 - val_accuracy: 0.0111\n",
      "Epoch 29/50\n",
      "543/543 [==============================] - 121s 223ms/step - loss: 4.7785 - accuracy: 0.0125 - val_loss: 4.7895 - val_accuracy: 0.0111\n",
      "Epoch 30/50\n",
      "543/543 [==============================] - 121s 224ms/step - loss: 4.7784 - accuracy: 0.0128 - val_loss: 4.7867 - val_accuracy: 0.0104\n",
      "Epoch 31/50\n",
      "543/543 [==============================] - 121s 223ms/step - loss: 4.7781 - accuracy: 0.0127 - val_loss: 4.7841 - val_accuracy: 0.0111\n",
      "Epoch 32/50\n",
      "543/543 [==============================] - 121s 223ms/step - loss: 4.7780 - accuracy: 0.0127 - val_loss: 4.7922 - val_accuracy: 0.0117\n",
      "Epoch 33/50\n",
      "543/543 [==============================] - 121s 224ms/step - loss: 4.7783 - accuracy: 0.0124 - val_loss: 4.7897 - val_accuracy: 0.0091\n",
      "Epoch 34/50\n",
      "543/543 [==============================] - 121s 223ms/step - loss: 4.7779 - accuracy: 0.0124 - val_loss: 4.7911 - val_accuracy: 0.0104\n",
      "Epoch 35/50\n",
      "543/543 [==============================] - 121s 224ms/step - loss: 4.7787 - accuracy: 0.0127 - val_loss: 4.7854 - val_accuracy: 0.0130\n",
      "Epoch 36/50\n",
      "543/543 [==============================] - 121s 224ms/step - loss: 4.7787 - accuracy: 0.0122 - val_loss: 4.7872 - val_accuracy: 0.0098\n",
      "Epoch 37/50\n",
      "543/543 [==============================] - 122s 224ms/step - loss: 4.7785 - accuracy: 0.0112 - val_loss: 4.7894 - val_accuracy: 0.0104\n",
      "Epoch 38/50\n",
      "543/543 [==============================] - 121s 223ms/step - loss: 4.7785 - accuracy: 0.0127 - val_loss: 4.7868 - val_accuracy: 0.0111\n",
      "Epoch 39/50\n",
      "543/543 [==============================] - 121s 223ms/step - loss: 4.7783 - accuracy: 0.0124 - val_loss: 4.7838 - val_accuracy: 0.0091\n",
      "Epoch 40/50\n",
      "543/543 [==============================] - 121s 223ms/step - loss: 4.7782 - accuracy: 0.0127 - val_loss: 4.7869 - val_accuracy: 0.0098\n",
      "Epoch 41/50\n",
      "543/543 [==============================] - 122s 224ms/step - loss: 4.7781 - accuracy: 0.0122 - val_loss: 4.7861 - val_accuracy: 0.0104\n",
      "Epoch 42/50\n",
      "543/543 [==============================] - 121s 224ms/step - loss: 4.7783 - accuracy: 0.0127 - val_loss: 4.7893 - val_accuracy: 0.0104\n",
      "Epoch 43/50\n",
      "543/543 [==============================] - 121s 223ms/step - loss: 4.7784 - accuracy: 0.0128 - val_loss: 4.7889 - val_accuracy: 0.0111\n",
      "Epoch 44/50\n",
      "543/543 [==============================] - 121s 223ms/step - loss: 4.7783 - accuracy: 0.0125 - val_loss: 4.7869 - val_accuracy: 0.0117\n",
      "Epoch 45/50\n",
      "543/543 [==============================] - 122s 224ms/step - loss: 4.7782 - accuracy: 0.0125 - val_loss: 4.7856 - val_accuracy: 0.0117\n",
      "Epoch 46/50\n",
      "543/543 [==============================] - 121s 223ms/step - loss: 4.7792 - accuracy: 0.0124 - val_loss: 4.7898 - val_accuracy: 0.0104\n",
      "Epoch 47/50\n",
      "543/543 [==============================] - 122s 224ms/step - loss: 4.7787 - accuracy: 0.0123 - val_loss: 4.7885 - val_accuracy: 0.0091\n",
      "Epoch 48/50\n",
      "543/543 [==============================] - 122s 225ms/step - loss: 4.7783 - accuracy: 0.0125 - val_loss: 4.7896 - val_accuracy: 0.0104\n",
      "Epoch 49/50\n",
      "543/543 [==============================] - 121s 223ms/step - loss: 4.7781 - accuracy: 0.0128 - val_loss: 4.7862 - val_accuracy: 0.0124\n",
      "Epoch 50/50\n",
      "543/543 [==============================] - 121s 223ms/step - loss: 4.7788 - accuracy: 0.0124 - val_loss: 4.7889 - val_accuracy: 0.0117\n"
     ]
    }
   ],
   "source": [
    "history = model.fit(train_dataset, validation_data=val_dataset,\n",
    "                epochs=50,\n",
    "                shuffle=True)\n",
    "                #callbacks=[checkpoint])"
   ]
  },
  {
   "cell_type": "code",
   "execution_count": 156,
   "metadata": {},
   "outputs": [],
   "source": [
    "model.compile(loss='categorical_crossentropy', optimizer=Adam(learning_rate=0.0003), metrics=['accuracy'])"
   ]
  },
  {
   "cell_type": "code",
   "execution_count": 157,
   "metadata": {},
   "outputs": [
    {
     "name": "stdout",
     "output_type": "stream",
     "text": [
      "Epoch 1/50\n",
      "  2/543 [..............................] - ETA: 1:31 - loss: 4.7798 - accuracy: 0.0625WARNING:tensorflow:Callbacks method `on_train_batch_end` is slow compared to the batch time (batch time: 0.0670s vs `on_train_batch_end` time: 0.1360s). Check your callbacks.\n",
      "543/543 [==============================] - 123s 227ms/step - loss: 4.7757 - accuracy: 0.0127 - val_loss: 4.7892 - val_accuracy: 0.0104\n",
      "Epoch 2/50\n",
      "543/543 [==============================] - 122s 225ms/step - loss: 4.7746 - accuracy: 0.0127 - val_loss: 4.7870 - val_accuracy: 0.0111\n",
      "Epoch 3/50\n",
      "543/543 [==============================] - 122s 225ms/step - loss: 4.7750 - accuracy: 0.0124 - val_loss: 4.7889 - val_accuracy: 0.0098\n",
      "Epoch 4/50\n",
      "543/543 [==============================] - 122s 225ms/step - loss: 4.7748 - accuracy: 0.0127 - val_loss: 4.7892 - val_accuracy: 0.0124\n",
      "Epoch 5/50\n",
      "543/543 [==============================] - 122s 225ms/step - loss: 4.7752 - accuracy: 0.0129 - val_loss: 4.7877 - val_accuracy: 0.0111\n",
      "Epoch 6/50\n",
      "543/543 [==============================] - 122s 225ms/step - loss: 4.7755 - accuracy: 0.0124 - val_loss: 4.7852 - val_accuracy: 0.0098\n",
      "Epoch 7/50\n",
      "543/543 [==============================] - 123s 226ms/step - loss: 4.7750 - accuracy: 0.0124 - val_loss: 4.7871 - val_accuracy: 0.0117\n",
      "Epoch 8/50\n",
      "543/543 [==============================] - 123s 226ms/step - loss: 4.7749 - accuracy: 0.0128 - val_loss: 4.7888 - val_accuracy: 0.0104\n",
      "Epoch 9/50\n",
      "543/543 [==============================] - 122s 225ms/step - loss: 4.7751 - accuracy: 0.0129 - val_loss: 4.7875 - val_accuracy: 0.0111\n",
      "Epoch 10/50\n",
      "543/543 [==============================] - 122s 225ms/step - loss: 4.7749 - accuracy: 0.0128 - val_loss: 4.7872 - val_accuracy: 0.0117\n",
      "Epoch 11/50\n",
      "543/543 [==============================] - 122s 225ms/step - loss: 4.7746 - accuracy: 0.0129 - val_loss: 4.7876 - val_accuracy: 0.0137\n",
      "Epoch 12/50\n",
      "543/543 [==============================] - 122s 225ms/step - loss: 4.7754 - accuracy: 0.0127 - val_loss: 4.7877 - val_accuracy: 0.0117\n",
      "Epoch 13/50\n",
      "543/543 [==============================] - 122s 225ms/step - loss: 4.7750 - accuracy: 0.0123 - val_loss: 4.7870 - val_accuracy: 0.0104\n",
      "Epoch 14/50\n",
      "543/543 [==============================] - 122s 225ms/step - loss: 4.7749 - accuracy: 0.0129 - val_loss: 4.7885 - val_accuracy: 0.0098\n",
      "Epoch 15/50\n",
      "543/543 [==============================] - 122s 225ms/step - loss: 4.7747 - accuracy: 0.0127 - val_loss: 4.7888 - val_accuracy: 0.0124\n",
      "Epoch 16/50\n",
      "543/543 [==============================] - 123s 226ms/step - loss: 4.7747 - accuracy: 0.0127 - val_loss: 4.7873 - val_accuracy: 0.0104\n",
      "Epoch 17/50\n",
      "543/543 [==============================] - 122s 225ms/step - loss: 4.7747 - accuracy: 0.0124 - val_loss: 4.7897 - val_accuracy: 0.0098\n",
      "Epoch 18/50\n",
      "543/543 [==============================] - 122s 225ms/step - loss: 4.7753 - accuracy: 0.0129 - val_loss: 4.7850 - val_accuracy: 0.0098\n",
      "Epoch 19/50\n",
      "543/543 [==============================] - 122s 225ms/step - loss: 4.7754 - accuracy: 0.0121 - val_loss: 4.7851 - val_accuracy: 0.0104\n",
      "Epoch 20/50\n",
      "543/543 [==============================] - 122s 225ms/step - loss: 4.7750 - accuracy: 0.0127 - val_loss: 4.7876 - val_accuracy: 0.0098\n",
      "Epoch 21/50\n",
      "543/543 [==============================] - 122s 225ms/step - loss: 4.7750 - accuracy: 0.0124 - val_loss: 4.7900 - val_accuracy: 0.0098\n",
      "Epoch 22/50\n",
      "543/543 [==============================] - 122s 225ms/step - loss: 4.7747 - accuracy: 0.0129 - val_loss: 4.7860 - val_accuracy: 0.0104\n",
      "Epoch 23/50\n",
      "543/543 [==============================] - 122s 225ms/step - loss: 4.7752 - accuracy: 0.0124 - val_loss: 4.7895 - val_accuracy: 0.0117\n",
      "Epoch 24/50\n",
      "543/543 [==============================] - 122s 225ms/step - loss: 4.7747 - accuracy: 0.0129 - val_loss: 4.7874 - val_accuracy: 0.0111\n",
      "Epoch 25/50\n",
      "543/543 [==============================] - 122s 225ms/step - loss: 4.7751 - accuracy: 0.0127 - val_loss: 4.7868 - val_accuracy: 0.0098\n",
      "Epoch 26/50\n",
      "543/543 [==============================] - 122s 225ms/step - loss: 4.7752 - accuracy: 0.0124 - val_loss: 4.7859 - val_accuracy: 0.0111\n",
      "Epoch 27/50\n",
      "543/543 [==============================] - 122s 225ms/step - loss: 4.7752 - accuracy: 0.0127 - val_loss: 4.7878 - val_accuracy: 0.0130\n",
      "Epoch 28/50\n",
      "543/543 [==============================] - 122s 225ms/step - loss: 4.7751 - accuracy: 0.0127 - val_loss: 4.7867 - val_accuracy: 0.0098\n",
      "Epoch 29/50\n",
      "543/543 [==============================] - 122s 225ms/step - loss: 4.7746 - accuracy: 0.0124 - val_loss: 4.7874 - val_accuracy: 0.0117\n",
      "Epoch 30/50\n",
      "543/543 [==============================] - 122s 225ms/step - loss: 4.7754 - accuracy: 0.0125 - val_loss: 4.7857 - val_accuracy: 0.0124\n",
      "Epoch 31/50\n",
      "543/543 [==============================] - 122s 225ms/step - loss: 4.7747 - accuracy: 0.0125 - val_loss: 4.7873 - val_accuracy: 0.0111\n",
      "Epoch 32/50\n",
      "543/543 [==============================] - 123s 226ms/step - loss: 4.7749 - accuracy: 0.0128 - val_loss: 4.7854 - val_accuracy: 0.0137\n",
      "Epoch 33/50\n",
      "543/543 [==============================] - 122s 225ms/step - loss: 4.7751 - accuracy: 0.0129 - val_loss: 4.7880 - val_accuracy: 0.0098\n",
      "Epoch 34/50\n",
      "543/543 [==============================] - 122s 225ms/step - loss: 4.7752 - accuracy: 0.0128 - val_loss: 4.7889 - val_accuracy: 0.0091\n",
      "Epoch 35/50\n",
      "543/543 [==============================] - 122s 226ms/step - loss: 4.7753 - accuracy: 0.0127 - val_loss: 4.7849 - val_accuracy: 0.0091\n",
      "Epoch 36/50\n",
      "543/543 [==============================] - 122s 225ms/step - loss: 4.7751 - accuracy: 0.0127 - val_loss: 4.7874 - val_accuracy: 0.0130\n",
      "Epoch 37/50\n",
      "543/543 [==============================] - 122s 225ms/step - loss: 4.7750 - accuracy: 0.0127 - val_loss: 4.7866 - val_accuracy: 0.0124\n",
      "Epoch 38/50\n",
      "543/543 [==============================] - 123s 226ms/step - loss: 4.7754 - accuracy: 0.0124 - val_loss: 4.7887 - val_accuracy: 0.0117\n",
      "Epoch 39/50\n",
      "543/543 [==============================] - 122s 225ms/step - loss: 4.7744 - accuracy: 0.0125 - val_loss: 4.7868 - val_accuracy: 0.0098\n",
      "Epoch 40/50\n",
      "543/543 [==============================] - 122s 225ms/step - loss: 4.7746 - accuracy: 0.0125 - val_loss: 4.7890 - val_accuracy: 0.0111\n",
      "Epoch 41/50\n",
      "543/543 [==============================] - 122s 225ms/step - loss: 4.7751 - accuracy: 0.0128 - val_loss: 4.7871 - val_accuracy: 0.0104\n",
      "Epoch 42/50\n",
      "543/543 [==============================] - 122s 225ms/step - loss: 4.7750 - accuracy: 0.0127 - val_loss: 4.7887 - val_accuracy: 0.0104\n",
      "Epoch 43/50\n",
      "543/543 [==============================] - 122s 225ms/step - loss: 4.7748 - accuracy: 0.0128 - val_loss: 4.7881 - val_accuracy: 0.0111\n",
      "Epoch 44/50\n",
      "543/543 [==============================] - 123s 226ms/step - loss: 4.7748 - accuracy: 0.0128 - val_loss: 4.7893 - val_accuracy: 0.0085\n",
      "Epoch 45/50\n",
      "543/543 [==============================] - 122s 225ms/step - loss: 4.7751 - accuracy: 0.0127 - val_loss: 4.7907 - val_accuracy: 0.0085\n",
      "Epoch 46/50\n",
      "543/543 [==============================] - 122s 225ms/step - loss: 4.7748 - accuracy: 0.0125 - val_loss: 4.7880 - val_accuracy: 0.0111\n",
      "Epoch 47/50\n",
      "543/543 [==============================] - 122s 226ms/step - loss: 4.7753 - accuracy: 0.0127 - val_loss: 4.7866 - val_accuracy: 0.0117\n",
      "Epoch 48/50\n",
      "543/543 [==============================] - 122s 225ms/step - loss: 4.7748 - accuracy: 0.0128 - val_loss: 4.7879 - val_accuracy: 0.0104\n",
      "Epoch 49/50\n",
      "543/543 [==============================] - 122s 225ms/step - loss: 4.7750 - accuracy: 0.0128 - val_loss: 4.7855 - val_accuracy: 0.0111\n",
      "Epoch 50/50\n",
      "543/543 [==============================] - 123s 226ms/step - loss: 4.7754 - accuracy: 0.0124 - val_loss: 4.7902 - val_accuracy: 0.0091\n"
     ]
    }
   ],
   "source": [
    "history = model.fit(train_dataset, validation_data=val_dataset,\n",
    "                epochs=50,\n",
    "                shuffle=True)\n",
    "                #callbacks=[checkpoint])"
   ]
  },
  {
   "cell_type": "code",
   "execution_count": 158,
   "metadata": {},
   "outputs": [],
   "source": [
    "model.compile(loss='categorical_crossentropy', optimizer=Adam(learning_rate=0.00003), metrics=['accuracy'])"
   ]
  },
  {
   "cell_type": "code",
   "execution_count": 159,
   "metadata": {},
   "outputs": [
    {
     "name": "stdout",
     "output_type": "stream",
     "text": [
      "Epoch 1/50\n",
      "  2/543 [..............................] - ETA: 1:35 - loss: 4.8018 - accuracy: 0.0000e+00WARNING:tensorflow:Callbacks method `on_train_batch_end` is slow compared to the batch time (batch time: 0.0814s vs `on_train_batch_end` time: 0.1340s). Check your callbacks.\n",
      "543/543 [==============================] - 124s 228ms/step - loss: 4.7747 - accuracy: 0.0127 - val_loss: 4.7893 - val_accuracy: 0.0098\n",
      "Epoch 2/50\n",
      "543/543 [==============================] - 123s 226ms/step - loss: 4.7748 - accuracy: 0.0123 - val_loss: 4.7887 - val_accuracy: 0.0117\n",
      "Epoch 3/50\n",
      "543/543 [==============================] - 122s 226ms/step - loss: 4.7746 - accuracy: 0.0127 - val_loss: 4.7872 - val_accuracy: 0.0104\n",
      "Epoch 4/50\n",
      "543/543 [==============================] - 123s 226ms/step - loss: 4.7753 - accuracy: 0.0124 - val_loss: 4.7847 - val_accuracy: 0.0111\n",
      "Epoch 5/50\n",
      "543/543 [==============================] - 122s 225ms/step - loss: 4.7750 - accuracy: 0.0124 - val_loss: 4.7851 - val_accuracy: 0.0104\n",
      "Epoch 6/50\n",
      "543/543 [==============================] - 123s 227ms/step - loss: 4.7747 - accuracy: 0.0129 - val_loss: 4.7872 - val_accuracy: 0.0111\n",
      "Epoch 7/50\n",
      "543/543 [==============================] - 124s 227ms/step - loss: 4.7748 - accuracy: 0.0124 - val_loss: 4.7903 - val_accuracy: 0.0098\n",
      "Epoch 8/50\n",
      "543/543 [==============================] - 123s 227ms/step - loss: 4.7744 - accuracy: 0.0124 - val_loss: 4.7848 - val_accuracy: 0.0111\n",
      "Epoch 9/50\n",
      "543/543 [==============================] - 123s 226ms/step - loss: 4.7750 - accuracy: 0.0128 - val_loss: 4.7907 - val_accuracy: 0.0098\n",
      "Epoch 10/50\n",
      "543/543 [==============================] - 123s 226ms/step - loss: 4.7741 - accuracy: 0.0128 - val_loss: 4.7852 - val_accuracy: 0.0091\n",
      "Epoch 11/50\n",
      "543/543 [==============================] - 123s 226ms/step - loss: 4.7751 - accuracy: 0.0124 - val_loss: 4.7872 - val_accuracy: 0.0111\n",
      "Epoch 12/50\n",
      "543/543 [==============================] - 122s 225ms/step - loss: 4.7741 - accuracy: 0.0127 - val_loss: 4.7887 - val_accuracy: 0.0124\n",
      "Epoch 13/50\n",
      "543/543 [==============================] - 123s 227ms/step - loss: 4.7749 - accuracy: 0.0125 - val_loss: 4.7891 - val_accuracy: 0.0111\n",
      "Epoch 14/50\n",
      "543/543 [==============================] - 123s 227ms/step - loss: 4.7746 - accuracy: 0.0128 - val_loss: 4.7884 - val_accuracy: 0.0098\n",
      "Epoch 15/50\n",
      "543/543 [==============================] - 123s 227ms/step - loss: 4.7750 - accuracy: 0.0124 - val_loss: 4.7887 - val_accuracy: 0.0111\n",
      "Epoch 16/50\n",
      "543/543 [==============================] - 123s 227ms/step - loss: 4.7743 - accuracy: 0.0125 - val_loss: 4.7899 - val_accuracy: 0.0111\n",
      "Epoch 17/50\n",
      "543/543 [==============================] - 123s 226ms/step - loss: 4.7750 - accuracy: 0.0125 - val_loss: 4.7872 - val_accuracy: 0.0104\n",
      "Epoch 18/50\n",
      "543/543 [==============================] - 122s 225ms/step - loss: 4.7750 - accuracy: 0.0124 - val_loss: 4.7903 - val_accuracy: 0.0085\n",
      "Epoch 19/50\n",
      "543/543 [==============================] - 123s 226ms/step - loss: 4.7743 - accuracy: 0.0125 - val_loss: 4.7871 - val_accuracy: 0.0111\n",
      "Epoch 20/50\n",
      "543/543 [==============================] - 122s 226ms/step - loss: 4.7758 - accuracy: 0.0127 - val_loss: 4.7890 - val_accuracy: 0.0098\n",
      "Epoch 21/50\n",
      "543/543 [==============================] - 123s 226ms/step - loss: 4.7745 - accuracy: 0.0127 - val_loss: 4.7886 - val_accuracy: 0.0117\n",
      "Epoch 22/50\n",
      "543/543 [==============================] - 123s 226ms/step - loss: 4.7745 - accuracy: 0.0127 - val_loss: 4.7891 - val_accuracy: 0.0104\n",
      "Epoch 23/50\n",
      "543/543 [==============================] - 123s 227ms/step - loss: 4.7746 - accuracy: 0.0124 - val_loss: 4.7883 - val_accuracy: 0.0104\n",
      "Epoch 24/50\n",
      "543/543 [==============================] - 123s 226ms/step - loss: 4.7744 - accuracy: 0.0127 - val_loss: 4.7860 - val_accuracy: 0.0104\n",
      "Epoch 25/50\n",
      "543/543 [==============================] - 122s 225ms/step - loss: 4.7749 - accuracy: 0.0128 - val_loss: 4.7887 - val_accuracy: 0.0098\n",
      "Epoch 26/50\n",
      "543/543 [==============================] - 123s 226ms/step - loss: 4.7743 - accuracy: 0.0127 - val_loss: 4.7893 - val_accuracy: 0.0111\n",
      "Epoch 27/50\n",
      "543/543 [==============================] - 122s 225ms/step - loss: 4.7745 - accuracy: 0.0128 - val_loss: 4.7884 - val_accuracy: 0.0111\n",
      "Epoch 28/50\n",
      "543/543 [==============================] - 123s 226ms/step - loss: 4.7748 - accuracy: 0.0128 - val_loss: 4.7877 - val_accuracy: 0.0117\n",
      "Epoch 29/50\n",
      "543/543 [==============================] - 122s 226ms/step - loss: 4.7743 - accuracy: 0.0127 - val_loss: 4.7886 - val_accuracy: 0.0111\n",
      "Epoch 30/50\n",
      "543/543 [==============================] - 123s 227ms/step - loss: 4.7747 - accuracy: 0.0124 - val_loss: 4.7874 - val_accuracy: 0.0117\n",
      "Epoch 31/50\n",
      "543/543 [==============================] - 124s 228ms/step - loss: 4.7744 - accuracy: 0.0125 - val_loss: 4.7838 - val_accuracy: 0.0111\n",
      "Epoch 32/50\n",
      "543/543 [==============================] - 123s 227ms/step - loss: 4.7749 - accuracy: 0.0124 - val_loss: 4.7860 - val_accuracy: 0.0104\n",
      "Epoch 33/50\n",
      "543/543 [==============================] - 123s 226ms/step - loss: 4.7744 - accuracy: 0.0125 - val_loss: 4.7875 - val_accuracy: 0.0104\n",
      "Epoch 34/50\n",
      "543/543 [==============================] - 123s 227ms/step - loss: 4.7744 - accuracy: 0.0129 - val_loss: 4.7911 - val_accuracy: 0.0117\n",
      "Epoch 35/50\n",
      "543/543 [==============================] - 123s 226ms/step - loss: 4.7750 - accuracy: 0.0123 - val_loss: 4.7875 - val_accuracy: 0.0104\n",
      "Epoch 36/50\n",
      "543/543 [==============================] - 123s 226ms/step - loss: 4.7752 - accuracy: 0.0122 - val_loss: 4.7898 - val_accuracy: 0.0111\n",
      "Epoch 37/50\n",
      "543/543 [==============================] - 123s 226ms/step - loss: 4.7744 - accuracy: 0.0127 - val_loss: 4.7908 - val_accuracy: 0.0124\n",
      "Epoch 38/50\n",
      "543/543 [==============================] - 122s 225ms/step - loss: 4.7744 - accuracy: 0.0124 - val_loss: 4.7834 - val_accuracy: 0.0124\n",
      "Epoch 39/50\n",
      "543/543 [==============================] - 123s 226ms/step - loss: 4.7746 - accuracy: 0.0128 - val_loss: 4.7843 - val_accuracy: 0.0117\n",
      "Epoch 40/50\n",
      "543/543 [==============================] - 123s 227ms/step - loss: 4.7742 - accuracy: 0.0127 - val_loss: 4.7888 - val_accuracy: 0.0124\n",
      "Epoch 41/50\n",
      "543/543 [==============================] - 123s 226ms/step - loss: 4.7748 - accuracy: 0.0128 - val_loss: 4.7868 - val_accuracy: 0.0111\n",
      "Epoch 42/50\n",
      "543/543 [==============================] - 123s 226ms/step - loss: 4.7743 - accuracy: 0.0124 - val_loss: 4.7878 - val_accuracy: 0.0111\n",
      "Epoch 43/50\n",
      "543/543 [==============================] - 123s 227ms/step - loss: 4.7746 - accuracy: 0.0124 - val_loss: 4.7866 - val_accuracy: 0.0117\n",
      "Epoch 44/50\n",
      "543/543 [==============================] - 123s 227ms/step - loss: 4.7743 - accuracy: 0.0127 - val_loss: 4.7896 - val_accuracy: 0.0098\n",
      "Epoch 45/50\n",
      "543/543 [==============================] - 123s 226ms/step - loss: 4.7742 - accuracy: 0.0129 - val_loss: 4.7868 - val_accuracy: 0.0091\n",
      "Epoch 46/50\n",
      "543/543 [==============================] - 123s 226ms/step - loss: 4.7747 - accuracy: 0.0124 - val_loss: 4.7918 - val_accuracy: 0.0091\n",
      "Epoch 47/50\n",
      "543/543 [==============================] - 122s 226ms/step - loss: 4.7747 - accuracy: 0.0128 - val_loss: 4.7881 - val_accuracy: 0.0111\n",
      "Epoch 48/50\n",
      "543/543 [==============================] - 123s 226ms/step - loss: 4.7744 - accuracy: 0.0128 - val_loss: 4.7858 - val_accuracy: 0.0091\n",
      "Epoch 49/50\n",
      "543/543 [==============================] - 123s 226ms/step - loss: 4.7741 - accuracy: 0.0127 - val_loss: 4.7871 - val_accuracy: 0.0117\n",
      "Epoch 50/50\n",
      "543/543 [==============================] - 122s 225ms/step - loss: 4.7746 - accuracy: 0.0125 - val_loss: 4.7908 - val_accuracy: 0.0117\n"
     ]
    }
   ],
   "source": [
    "history = model.fit(train_dataset, validation_data=val_dataset,\n",
    "                epochs=50,\n",
    "                shuffle=True)\n",
    "                #callbacks=[checkpoint])"
   ]
  },
  {
   "cell_type": "code",
   "execution_count": null,
   "metadata": {},
   "outputs": [],
   "source": []
  },
  {
   "cell_type": "code",
   "execution_count": null,
   "metadata": {},
   "outputs": [],
   "source": []
  }
 ],
 "metadata": {
  "kernelspec": {
   "display_name": "Python 3",
   "language": "python",
   "name": "python3"
  },
  "language_info": {
   "codemirror_mode": {
    "name": "ipython",
    "version": 3
   },
   "file_extension": ".py",
   "mimetype": "text/x-python",
   "name": "python",
   "nbconvert_exporter": "python",
   "pygments_lexer": "ipython3",
   "version": "3.6.10"
  }
 },
 "nbformat": 4,
 "nbformat_minor": 4
}
